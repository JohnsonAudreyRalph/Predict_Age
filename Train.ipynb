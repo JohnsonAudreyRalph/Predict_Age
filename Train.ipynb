{
 "cells": [
  {
   "cell_type": "markdown",
   "source": [
    "<h1>Bước 1: </h1> Cài đặt thư viện"
   ],
   "metadata": {
    "collapsed": false
   }
  },
  {
   "cell_type": "code",
   "execution_count": null,
   "metadata": {
    "collapsed": true,
    "ExecuteTime": {
     "start_time": "2023-06-08T14:14:28.420908Z",
     "end_time": "2023-06-08T14:14:32.448607Z"
    }
   },
   "outputs": [],
   "source": [
    "import pandas as pd\n",
    "import os\n",
    "import matplotlib.pyplot as plt\n",
    "import seaborn as sns\n",
    "import warnings\n",
    "import cv2\n",
    "import numpy as np\n",
    "import tensorflow as tf\n",
    "from sklearn.metrics import r2_score, mean_squared_error\n",
    "from keras.preprocessing.image import ImageDataGenerator, load_img\n",
    "from tqdm.notebook import tqdm\n",
    "from keras.utils import np_utils\n",
    "from sklearn.model_selection import train_test_split\n",
    "from keras.models import Sequential\n",
    "from keras.utils.vis_utils import plot_model\n",
    "from keras.layers import Dense, Conv2D, Dropout, GlobalAveragePooling2D, AveragePooling2D, BatchNormalization\n",
    "from PIL import Image\n",
    "from keras.callbacks import ModelCheckpoint\n",
    "warnings.filterwarnings('ignore')\n",
    "np.random.seed(42)\n",
    "tf.random.set_seed(42)"
   ]
  },
  {
   "cell_type": "markdown",
   "source": [
    "<h1>Bước 2: </h1> Lấy dữ liệu"
   ],
   "metadata": {
    "collapsed": false
   }
  },
  {
   "cell_type": "code",
   "execution_count": null,
   "outputs": [],
   "source": [
    "BASE_DIR = 'Dataset'"
   ],
   "metadata": {
    "collapsed": false,
    "ExecuteTime": {
     "start_time": "2023-06-08T14:14:35.590347Z",
     "end_time": "2023-06-08T14:14:35.597819Z"
    }
   }
  },
  {
   "cell_type": "code",
   "execution_count": null,
   "outputs": [],
   "source": [
    "image_paths = []\n",
    "age_labels = []\n",
    "gender_labels = []\n",
    "\n",
    "for filename in tqdm(os.listdir(BASE_DIR)):\n",
    "    image_path = os.path.join(BASE_DIR, filename)\n",
    "    temp = filename.split('_')\n",
    "    age = int(temp[0])\n",
    "    gender = int(temp[1])\n",
    "    image_paths.append(image_path)\n",
    "    age_labels.append(age)\n",
    "    gender_labels.append(gender)"
   ],
   "metadata": {
    "collapsed": false,
    "ExecuteTime": {
     "start_time": "2023-06-08T14:14:38.122618Z",
     "end_time": "2023-06-08T14:14:38.255887Z"
    }
   }
  },
  {
   "cell_type": "code",
   "execution_count": null,
   "outputs": [],
   "source": [
    "df = pd.DataFrame()\n",
    "df['image'], df['age'], df['gender'] = image_paths, age_labels, gender_labels\n",
    "df.head()"
   ],
   "metadata": {
    "collapsed": false,
    "ExecuteTime": {
     "start_time": "2023-06-08T14:14:46.811742Z",
     "end_time": "2023-06-08T14:14:46.844877Z"
    }
   }
  },
  {
   "cell_type": "code",
   "execution_count": null,
   "outputs": [],
   "source": [
    "# Gán nhãn giới tính, 0 == Nam, 1 == Nữ\n",
    "gender_dict = {0:'Nam', 1:'Nữ'}"
   ],
   "metadata": {
    "collapsed": false,
    "ExecuteTime": {
     "start_time": "2023-06-08T14:14:49.745763Z",
     "end_time": "2023-06-08T14:14:49.756818Z"
    }
   }
  },
  {
   "cell_type": "markdown",
   "source": [
    "<h1>Bước 3: </h1> Phân tích dữ liệu"
   ],
   "metadata": {
    "collapsed": false
   }
  },
  {
   "cell_type": "code",
   "execution_count": null,
   "outputs": [],
   "source": [
    "img = Image.open(df['image'][4])\n",
    "plt.axis('off')\n",
    "plt.imshow(img)"
   ],
   "metadata": {
    "collapsed": false,
    "ExecuteTime": {
     "start_time": "2023-06-08T14:15:48.377316Z",
     "end_time": "2023-06-08T14:15:48.529382Z"
    }
   }
  },
  {
   "cell_type": "code",
   "execution_count": null,
   "outputs": [],
   "source": [
    "sns.distplot(df['age'])"
   ],
   "metadata": {
    "collapsed": false,
    "ExecuteTime": {
     "start_time": "2023-06-08T14:15:11.384424Z",
     "end_time": "2023-06-08T14:15:11.582256Z"
    }
   }
  },
  {
   "cell_type": "code",
   "execution_count": null,
   "outputs": [],
   "source": [
    "df = df[df['gender'] != 3]\n",
    "sns.countplot(x=df['gender'], data=df)"
   ],
   "metadata": {
    "collapsed": false,
    "ExecuteTime": {
     "start_time": "2023-06-08T14:15:14.471502Z",
     "end_time": "2023-06-08T14:15:14.550267Z"
    }
   }
  },
  {
   "cell_type": "code",
   "execution_count": null,
   "outputs": [],
   "source": [
    "plt.figure(figsize=(20, 20))\n",
    "files = df.iloc[0:25]\n",
    "\n",
    "for index, file, age, gender in files.itertuples():\n",
    "    plt.subplot(5, 5, index+1)\n",
    "    img = load_img(file)\n",
    "    img = np.array(img)\n",
    "    plt.imshow(img)\n",
    "    plt.title(f\"Tuổi: {age}, giới tính: {gender_dict[gender]}\")\n",
    "    plt.axis('off')"
   ],
   "metadata": {
    "collapsed": false,
    "ExecuteTime": {
     "start_time": "2023-06-08T14:15:17.153016Z",
     "end_time": "2023-06-08T14:15:19.739452Z"
    }
   }
  },
  {
   "cell_type": "markdown",
   "source": [
    "<h1>Bước 4: </h1> Thực hiện trích xuất đặc trưng"
   ],
   "metadata": {
    "collapsed": false
   }
  },
  {
   "cell_type": "code",
   "execution_count": null,
   "outputs": [],
   "source": [
    "y = []\n",
    "X = []\n",
    "\n",
    "len_Image = os.listdir(BASE_DIR)\n",
    "l = len(len_Image)\n",
    "\n",
    "for i in range(l):\n",
    "    X.append(cv2.imread(BASE_DIR+'/'+len_Image[i],0))\n",
    "    age = int(len_Image[i].split('_')[0])\n",
    "    # Trẻ nhũ nhi\n",
    "    if 1 <= age <= 2:\n",
    "        y.append(0)\n",
    "    # Tuổi ấu nhi\n",
    "    elif 3 <= age <= 6:\n",
    "        y.append(1)\n",
    "    # Tuổi thiếu nhi\n",
    "    elif 7 <= age <= 12:\n",
    "        y.append(2)\n",
    "    # Tuổi vị thành niên\n",
    "    elif 13 <= age <= 20:\n",
    "        y.append(3)\n",
    "    # Tuổi thanh niên\n",
    "    elif 21 <= age <= 40:\n",
    "        y.append(4)\n",
    "    # Tuổi trung niên\n",
    "    elif 41 <= age <= 60:\n",
    "        y.append(5)\n",
    "    # Tuổi già\n",
    "    elif 61 <= age <= 80:\n",
    "        y.append(6)\n",
    "    # Thọ\n",
    "    elif 81 <= age <= 116:\n",
    "        y.append(7)\n",
    "    print('Load: ' + str(i)+'/'+str(l))\n",
    "np.savez_compressed('Compressed_Image_Data.npz',x=X,y=y)"
   ],
   "metadata": {
    "collapsed": false
   }
  },
  {
   "cell_type": "code",
   "execution_count": null,
   "outputs": [],
   "source": [
    "loaded = np.load('Compressed_Image_Data.npz')\n",
    "X = loaded['x']\n",
    "y = loaded['y']"
   ],
   "metadata": {
    "collapsed": false
   }
  },
  {
   "cell_type": "code",
   "execution_count": null,
   "outputs": [],
   "source": [
    "y = np_utils.to_categorical(y)"
   ],
   "metadata": {
    "collapsed": false,
    "ExecuteTime": {
     "start_time": "2023-06-08T14:15:27.824328Z",
     "end_time": "2023-06-08T14:15:27.864659Z"
    }
   }
  },
  {
   "cell_type": "code",
   "execution_count": null,
   "outputs": [],
   "source": [
    "X_train, X_test, y_train, y_test = train_test_split(X, y, test_size=0.30, random_state=42)\n",
    "X_train = np.array(X_train).reshape(-1, 200, 200, 1)\n",
    "X_test = np.array(X_test).reshape(-1, 200, 200, 1)"
   ],
   "metadata": {
    "collapsed": false
   }
  },
  {
   "cell_type": "code",
   "execution_count": null,
   "outputs": [],
   "source": [
    "IMG_HEIGHT = 200\n",
    "IMG_WIDTH = 200\n",
    "IMG_SIZE = (IMG_HEIGHT,IMG_WIDTH)\n",
    "batch_size = 128\n",
    "epochs = 60"
   ],
   "metadata": {
    "collapsed": false
   }
  },
  {
   "cell_type": "code",
   "execution_count": null,
   "outputs": [],
   "source": [
    "train_datagen = ImageDataGenerator(\n",
    "    rescale = 1./255,\n",
    "    horizontal_flip = True,\n",
    "    shear_range = 0.2,\n",
    "    zoom_range = 0.2,\n",
    "    height_shift_range = 0.1,\n",
    "    width_shift_range = 0.1,\n",
    "    rotation_range = 15\n",
    ")\n",
    "\n",
    "test_datagen = ImageDataGenerator(rescale = 1./255)"
   ],
   "metadata": {
    "collapsed": false
   }
  },
  {
   "cell_type": "markdown",
   "source": [
    "<h1>Bước 5: </h1> Huấn luyện"
   ],
   "metadata": {
    "collapsed": false
   }
  },
  {
   "cell_type": "code",
   "execution_count": null,
   "outputs": [],
   "source": [
    "train_data = train_datagen.flow(X_train, y_train, batch_size)\n",
    "test_data = test_datagen.flow(X_test, y_test, batch_size)"
   ],
   "metadata": {
    "collapsed": false
   }
  },
  {
   "cell_type": "code",
   "execution_count": null,
   "outputs": [],
   "source": [
    "model = Sequential()\n",
    "model.add(Conv2D(filters=32, kernel_size=5, activation='relu', input_shape=(200, 200, 1)))\n",
    "model.add(AveragePooling2D(pool_size=(2,2)))\n",
    "model.add(Conv2D(filters=64, kernel_size=3, activation='relu'))\n",
    "model.add(AveragePooling2D(pool_size=(2,2)))\n",
    "model.add(Conv2D(filters=128, kernel_size=3, activation='relu'))\n",
    "model.add(AveragePooling2D(pool_size=(2,2)))\n",
    "model.add(Conv2D(filters=256, kernel_size=3, activation='relu'))\n",
    "model.add(BatchNormalization())\n",
    "model.add(AveragePooling2D(pool_size=(2,2)))\n",
    "model.add(GlobalAveragePooling2D())\n",
    "model.add(Dense(132, activation='relu'))\n",
    "model.add(Dropout(0.3))\n",
    "model.add(Dense(7, activation='softmax'))\n",
    "model.compile(loss='categorical_crossentropy', optimizer='adam', metrics=['accuracy'])\n",
    "model.summary()\n",
    "plot_model(model, show_shapes=True, show_layer_names=True)"
   ],
   "metadata": {
    "collapsed": false
   }
  },
  {
   "cell_type": "code",
   "execution_count": null,
   "outputs": [],
   "source": [
    "checkpoint = ModelCheckpoint(\n",
    "    filepath=\"../Model/model.h5\",\n",
    "    monitor='val_accuracy',\n",
    "    save_best_only=True,\n",
    "    save_weights_only=False,\n",
    "    verbose=1\n",
    ")"
   ],
   "metadata": {
    "collapsed": false
   }
  },
  {
   "cell_type": "code",
   "execution_count": null,
   "outputs": [],
   "source": [
    "history = model.fit(\n",
    "    train_data,\n",
    "    batch_size=batch_size,\n",
    "    validation_data=test_data,\n",
    "    epochs=epochs,\n",
    "    callbacks=[checkpoint],\n",
    "    shuffle=False\n",
    ")"
   ],
   "metadata": {
    "collapsed": false
   }
  },
  {
   "cell_type": "code",
   "execution_count": null,
   "outputs": [],
   "source": [
    "plotting_data_dict = history.history\n",
    "plt.figure(figsize=(12,8))\n",
    "test_loss = plotting_data_dict['val_loss']\n",
    "training_loss = plotting_data_dict['loss']\n",
    "test_accuracy = plotting_data_dict['val_accuracy']\n",
    "training_accuracy = plotting_data_dict['accuracy']\n",
    "epochs = range(1,len(test_loss)+1)\n",
    "plt.subplot(121)\n",
    "plt.plot(epochs,test_loss,marker='X',label='test_loss')\n",
    "plt.plot(epochs,training_loss,marker='X',label='training_loss')\n",
    "plt.legend()\n",
    "plt.subplot(122)\n",
    "plt.plot(epochs,test_accuracy,marker='X',label='test_accuracy')\n",
    "plt.plot(epochs,training_accuracy,marker='X',label='training_accuracy')\n",
    "plt.legend()\n",
    "plt.savefig('../Model/Training.png')"
   ],
   "metadata": {
    "collapsed": false
   }
  },
  {
   "cell_type": "markdown",
   "source": [
    "<h1>Bước 6: </h1> Đánh giá độ chính xác"
   ],
   "metadata": {
    "collapsed": false
   }
  },
  {
   "cell_type": "code",
   "execution_count": null,
   "outputs": [],
   "source": [
    "# Dự đoán nhãn của dữ liệu kiểm tra\n",
    "y_pred = model.predict_classes(X_test)\n",
    "# Chuyển đổi nhãn từ dạng one-hot vector sang dạng số nguyên\n",
    "y_test_int = np.argmax(y_test, axis=1)\n",
    "# Tính toán MSE\n",
    "mse = mean_squared_error(y_test_int, y_pred)\n",
    "# Tính toán R2 score\n",
    "r2 = r2_score(y_test_int, y_pred)\n",
    "print(\"MSE:\", mse)\n",
    "print(\"R2 score:\", r2)"
   ],
   "metadata": {
    "collapsed": false
   }
  }
 ],
 "metadata": {
  "kernelspec": {
   "display_name": "Python 3",
   "language": "python",
   "name": "python3"
  },
  "language_info": {
   "codemirror_mode": {
    "name": "ipython",
    "version": 2
   },
   "file_extension": ".py",
   "mimetype": "text/x-python",
   "name": "python",
   "nbconvert_exporter": "python",
   "pygments_lexer": "ipython2",
   "version": "2.7.6"
  }
 },
 "nbformat": 4,
 "nbformat_minor": 0
}
